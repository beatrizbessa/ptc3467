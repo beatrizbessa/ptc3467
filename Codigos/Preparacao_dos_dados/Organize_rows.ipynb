{
 "cells": [
  {
   "cell_type": "code",
   "execution_count": null,
   "metadata": {},
   "outputs": [],
   "source": [
    "import pandas as pd\n",
    "import numpy as np\n",
    "import pyarrow as pa\n",
    "import  pyarrow.parquet as pq"
   ]
  },
  {
   "cell_type": "code",
   "execution_count": null,
   "metadata": {},
   "outputs": [],
   "source": [
    "dfItens = pd.read_csv(\"../../Microdados_enem_2019/DADOS/ITENS_PROVA_2019.csv\", sep=';',encoding='iso-8859-1')"
   ]
  },
  {
   "cell_type": "code",
   "execution_count": null,
   "metadata": {},
   "outputs": [],
   "source": [
    "dictSubjects = {\"CN\":[], \"MT\":[], \"CH\":[], \"LC\":[]}"
   ]
  },
  {
   "cell_type": "code",
   "execution_count": null,
   "metadata": {},
   "outputs": [],
   "source": [
    "dictGabOrder = dictSubjects \n",
    "\n",
    "\n",
    "for subject in dictGabOrder.keys():\n",
    "    dfCodes = pd.DataFrame()\n",
    "    \n",
    "    dfSubject = dfItens[dfItens[\"SG_AREA\"]==subject]\n",
    "    blueCode = dfSubject[dfSubject[\"TX_COR\"]==\"Azul\"][\"CO_PROVA\"].unique()[0]\n",
    "\n",
    "    if subject == \"LC\":\n",
    "\n",
    "        dfCodes[\"CO_ITEM_0\"] = dfSubject[(dfSubject[\"CO_PROVA\"]==blueCode) & (dfSubject[\"TP_LINGUA\"]!=1)][[\"CO_ITEM\"]].reset_index(drop=True)\n",
    "        dfCodes[\"CO_ITEM_1\"] = dfSubject[(dfSubject[\"CO_PROVA\"]==blueCode) & (dfSubject[\"TP_LINGUA\"]!=0)][[\"CO_ITEM\"]].reset_index(drop=True)\n",
    "\n",
    "        dfUniqueProvaLingua = dfSubject[[\"CO_PROVA\", \"TP_LINGUA\"]].drop_duplicates().dropna()\n",
    "\n",
    "        for code, lingua in dfUniqueProvaLingua.itertuples(index=False):\n",
    "\n",
    "            lingua = int(lingua)\n",
    "            \n",
    "            dfSubjectFiltered = dfSubject[(dfSubject[\"CO_PROVA\"]==code) & ((dfSubject[\"TP_LINGUA\"]==lingua) | (dfSubject[\"TP_LINGUA\"].isna()))][[\"CO_ITEM\", \"CO_POSICAO\"]]\n",
    "\n",
    "            dfSubjectFiltered[\"CO_POSICAO\"] = dfSubjectFiltered[\"CO_POSICAO\"] - np.min(dfSubjectFiltered[\"CO_POSICAO\"])\n",
    "            dfSubjectFiltered.rename(columns= {\"CO_ITEM\":f'CO_ITEM_{lingua}'}, inplace=True) \n",
    "            \n",
    "            dfCodes = dfCodes.merge(dfSubjectFiltered, on=f'CO_ITEM_{lingua}', how=\"left\", suffixes=(None, f'_{code}_{lingua}'))\n",
    "                    \n",
    "        dfCodes.rename(columns= {\"CO_POSICAO\":f'CO_POSICAO_{blueCode}_{0}'}, inplace=True) \n",
    "        dictGabOrder[subject] = dfCodes\n",
    "        \n",
    "    \n",
    "    else:\n",
    "        dfCodes[\"CO_ITEM\"] = dfSubject[dfSubject[\"CO_PROVA\"]==blueCode][[\"CO_ITEM\"]]\n",
    "    \n",
    "        for code in dfSubject['CO_PROVA'].unique():\n",
    "            dfSubjectFiltered = dfSubject[dfSubject[\"CO_PROVA\"]==code][[\"CO_ITEM\", \"CO_POSICAO\"]]\n",
    "            \n",
    "            dfSubjectFiltered[\"CO_POSICAO\"] = dfSubjectFiltered[\"CO_POSICAO\"] - np.min(dfSubjectFiltered[\"CO_POSICAO\"])\n",
    "            \n",
    "            dfCodes = dfCodes.merge(dfSubjectFiltered, on=\"CO_ITEM\", how=\"left\", suffixes=(None, f'_{code}'))\n",
    "        \n",
    "        dfCodes.rename(columns= {\"CO_POSICAO\":f'CO_POSICAO_{blueCode}'}, inplace=True) \n",
    "        dictGabOrder[subject] = dfCodes\n"
   ]
  },
  {
   "cell_type": "code",
   "execution_count": 267,
   "metadata": {},
   "outputs": [],
   "source": [
    "dictResp = dictSubjects \n",
    "\n",
    "for subject in dictResp.keys():\n",
    "    dictResp[subject] = pd.read_parquet(f'../../Datasets/MICRODADOS_ENEM_2019_SAOPAULO_BySubject/{subject}.parquet')"
   ]
  },
  {
   "cell_type": "code",
   "execution_count": 271,
   "metadata": {},
   "outputs": [],
   "source": [
    "dictGabOrder[\"MT\"].loc[0,\"CO_POSICAO_522\"] = 15\n",
    "dictGabOrder[\"MT\"][\"CO_POSICAO_522\"] = dictGabOrder[\"MT\"][\"CO_POSICAO_522\"].astype('int32')\n",
    "\n",
    "\n",
    "dictResp['CN'] = dictResp['CN'][dictResp['CN']['CO_PROVA_CN'] != 519].reset_index(drop=True)"
   ]
  },
  {
   "cell_type": "code",
   "execution_count": null,
   "metadata": {},
   "outputs": [],
   "source": [
    "dictMasks = dictSubjects \n",
    "\n",
    "for subject in dictMasks.keys():\n",
    "    dictMasks[subject] = pd.DataFrame()\n",
    "    listOfValues = []\n",
    "\n",
    "    dictColumnsToIterate = ['NU_INSCRICAO', f'CO_PROVA_{subject}']\n",
    "   \n",
    "    if subject == 'LC':\n",
    "        dictColumnsToIterate.append('TP_LINGUA')\n",
    " \n",
    "    for index, row in dictResp[subject][dictColumnsToIterate].iterrows():\n",
    "        codigo = int(row[f'CO_PROVA_{subject}'])\n",
    "\n",
    "        co_posicao = f'CO_POSICAO_{codigo}_{int(row[\"TP_LINGUA\"])}' if subject == 'LC' else f'CO_POSICAO_{codigo}'\n",
    "\n",
    "        dictPos = np.dict(dictGabOrder[subject][co_posicao]) + 1 \n",
    "        dictPos = np.insert(dictPos, 0 , 0)\n",
    "        dictPos = np.insert(dictPos, 46 , 46)\n",
    "        dictPos = np.insert(dictPos, 47 , 47)\n",
    "    \n",
    "        if subject == 'LC':\n",
    "           dictPos = np.insert(dictPos, 48 , 48)\n",
    "\n",
    "        listOfValues.append(dictPos)\n",
    "\n",
    "    dictMasks[subject] = listOfValues"
   ]
  },
  {
   "cell_type": "code",
   "execution_count": null,
   "metadata": {},
   "outputs": [],
   "source": [
    "dictRespOrdered = dictSubjects \n",
    "\n",
    "for subject in dictRespOrdered.keys():\n",
    "    columns = dictResp[subject].columns\n",
    "    \n",
    "    dfSubject = pd.concat([ pd.DataFrame(  [row[dictMasks[subject][index]].values], columns=columns )  for index, row in dictResp[subject].iterrows()], ignore_index=True)\n",
    "\n",
    "    dictRespOrdered[subject] = dfSubject"
   ]
  },
  {
   "cell_type": "code",
   "execution_count": null,
   "metadata": {},
   "outputs": [],
   "source": [
    "for subject, dfSubject in dictRespOrdered.items():\n",
    "    \n",
    "    table = pa.Table.from_pandas(dfSubject.reset_index(drop=True))\n",
    "\n",
    "    \n",
    "    # Definir onde será salvo o novo dataset filtrado por área\n",
    "    path = f'../../Datasets/MICRODADOS_ENEM_2019_SAOPAULO_BySubjectOrdered/{subject}.parquet'\n",
    "\n",
    "    # Gerar um parquet da tabela\n",
    "    pq.write_to_dataset(\n",
    "        table,\n",
    "        root_path=path,\n",
    "    )"
   ]
  }
 ],
 "metadata": {
  "interpreter": {
   "hash": "e774f25fef358570f8855c1820fdc89100b1a0bc15aad31a4e29065a6a0197c3"
  },
  "kernelspec": {
   "display_name": "Python 3.9.2 64-bit",
   "language": "python",
   "name": "python3"
  },
  "language_info": {
   "codemirror_mode": {
    "name": "ipython",
    "version": 3
   },
   "file_extension": ".py",
   "mimetype": "text/x-python",
   "name": "python",
   "nbconvert_exporter": "python",
   "pygments_lexer": "ipython3",
   "version": "3.9.7"
  },
  "orig_nbformat": 4
 },
 "nbformat": 4,
 "nbformat_minor": 2
}
