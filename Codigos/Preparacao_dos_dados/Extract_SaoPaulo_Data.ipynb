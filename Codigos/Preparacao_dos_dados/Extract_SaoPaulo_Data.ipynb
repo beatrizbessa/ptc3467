{
 "cells": [
  {
   "cell_type": "code",
   "execution_count": null,
   "id": "f028331b-a8cb-417b-b13b-d28a011e369c",
   "metadata": {},
   "outputs": [],
   "source": [
    "# Importar Dask para trabalhar com Dataframes grandes (Processamento Distribuído)\n",
    "import dask\n",
    "import dask.dataframe as dd\n",
    "from dask.distributed import Client, progress\n",
    "\n",
    "# Importar pandas para gerar arquivo CSV\n",
    "import pandas as pd"
   ]
  },
  {
   "cell_type": "code",
   "execution_count": null,
   "id": "1a4711d7-0cb6-4b7d-8c78-35250798bd61",
   "metadata": {},
   "outputs": [],
   "source": [
    "# Inicializar um Client do Dask com 2 Workers, Máximo de 2 threads por Worker e Limite de 2Gb de Memória\n",
    "client = Client(n_workers=2, threads_per_worker=2, memory_limit='2GB')\n",
    "client"
   ]
  },
  {
   "cell_type": "code",
   "execution_count": null,
   "id": "c314b7e9-08ce-40d8-b8cc-9d355f247122",
   "metadata": {},
   "outputs": [],
   "source": [
    "# Criar um Dask Dataframe, lendo o arquivo CSV na íntegra\n",
    "# O Arquivo está com encoding iso-8859-1 ao invés de UTF-8\n",
    "# Os ajustes feitos no parâmetro dtype são por conta de um problema do Dask ao inferir os tipos corretos de dados de algumas colunas\n",
    "df = dd.read_csv('../../Microdados_enem_2019/DADOS/MICRODADOS_ENEM_2019.csv', sep=';',encoding='iso-8859-1', dtype={'CO_MUNICIPIO_NASCIMENTO': 'float64',\n",
    "       'CO_UF_NASCIMENTO': 'float64',\n",
    "       'NO_MUNICIPIO_ESC': 'object',\n",
    "       'SG_UF_ESC': 'object',\n",
    "       'NU_IDADE': 'float64'})"
   ]
  },
  {
   "cell_type": "code",
   "execution_count": null,
   "id": "af2fa093-a3e6-40ff-b13b-394aa34be168",
   "metadata": {},
   "outputs": [],
   "source": [
    "# Usando a mesma API do pandas, faça uma query pra trazer só os dados de São Paulo e com o resultado crie um Dataframe Pandas com a função compute (Dask)\n",
    "df_SP = df.query(\"NO_MUNICIPIO_RESIDENCIA == 'São Paulo'\").compute()"
   ]
  },
  {
   "cell_type": "code",
   "execution_count": null,
   "id": "8978665b-0f8a-4409-8e9c-5827bf895743",
   "metadata": {},
   "outputs": [],
   "source": [
    "# Gerar um CSV do Dataframe Pandas\n",
    "df_SP.to_csv(\"../../Datasets/MICRODADOS_ENEM_2019_SAOPAULO.csv\", sep=';',encoding='iso-8859-1')"
   ]
  }
 ],
 "metadata": {
  "kernelspec": {
   "display_name": "Python 3 (ipykernel)",
   "language": "python",
   "name": "python3"
  },
  "language_info": {
   "codemirror_mode": {
    "name": "ipython",
    "version": 3
   },
   "file_extension": ".py",
   "mimetype": "text/x-python",
   "name": "python",
   "nbconvert_exporter": "python",
   "pygments_lexer": "ipython3",
   "version": "3.9.7"
  }
 },
 "nbformat": 4,
 "nbformat_minor": 5
}
