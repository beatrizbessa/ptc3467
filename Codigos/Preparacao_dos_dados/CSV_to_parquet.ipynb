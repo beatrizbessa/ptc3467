{
 "cells": [
  {
   "cell_type": "code",
   "execution_count": 2,
   "metadata": {},
   "outputs": [],
   "source": [
    "# Importar pandas e pyarrow para ler/escrever arquivo csv/parquet\n",
    "import pandas as pd\n",
    "import pyarrow as pa\n",
    "import  pyarrow.parquet as pq"
   ]
  },
  {
   "cell_type": "code",
   "execution_count": 5,
   "metadata": {},
   "outputs": [],
   "source": [
    "# Definir o caminho em que se encontra o dataset em CSV\n",
    "path_csv = \"../../Datasets/MICRODADOS_ENEM_2019_SAOPAULO.csv\""
   ]
  },
  {
   "cell_type": "code",
   "execution_count": 6,
   "metadata": {},
   "outputs": [],
   "source": [
    "# Ler o arquivo CSV e converter em Table\n",
    "df = pd.read_csv(path_csv,encoding=\"ISO-8859-1\",sep=\";\")\n",
    "table = pa.Table.from_pandas(df)"
   ]
  },
  {
   "cell_type": "code",
   "execution_count": null,
   "metadata": {},
   "outputs": [],
   "source": [
    "# Definir o caminho em que será salvo o arquivo parquet\n",
    "path_parquet = \"../../Datasets/MICRODADOS_ENEM_2019_SAOPAULO.parquet\""
   ]
  },
  {
   "cell_type": "code",
   "execution_count": null,
   "metadata": {},
   "outputs": [],
   "source": [
    "# Gerar o arquivo parquet da Table\n",
    "pq.write_to_dataset(\n",
    "    table,\n",
    "    root_path=path_parquet,\n",
    ")"
   ]
  }
 ],
 "metadata": {
  "interpreter": {
   "hash": "f05200b756a9a88e893a2105222cf6c7350c9f501a8752a6ed40fd4d17f58db5"
  },
  "kernelspec": {
   "display_name": "Python 3.9.7 64-bit",
   "language": "python",
   "name": "python3"
  },
  "language_info": {
   "codemirror_mode": {
    "name": "ipython",
    "version": 3
   },
   "file_extension": ".py",
   "mimetype": "text/x-python",
   "name": "python",
   "nbconvert_exporter": "python",
   "pygments_lexer": "ipython3",
   "version": "3.9.7"
  },
  "orig_nbformat": 4
 },
 "nbformat": 4,
 "nbformat_minor": 2
}
