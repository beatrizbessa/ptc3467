{
 "cells": [
  {
   "cell_type": "code",
   "execution_count": 1,
   "metadata": {},
   "outputs": [],
   "source": [
    "# Importar pandas e pyarrow para gerar o arquivo .parquet\n",
    "import pandas as pd\n",
    "import pyarrow as pa\n",
    "import  pyarrow.parquet as pq"
   ]
  },
  {
   "cell_type": "code",
   "execution_count": 9,
   "metadata": {},
   "outputs": [],
   "source": [
    "# Definir o caminho relativo onde se encontra o dataset\n",
    "path_in = \"../../Datasets/MICRODADOS_ENEM_2019_SAOPAULO.parquet\"\n",
    "\n",
    "# Definir as colunas que serão mantidas no dataset\n",
    "#  NU_INSCRICAO   -> Número de inscrição\n",
    "#  TP_PRESENCA_X  -> Presença na prova objetiva de X\n",
    "#  CO_PROVA_X     -> Código do tipo de prova de X\n",
    "#  NU_NOTA_X      -> Nota da prova de X\n",
    "#  TX_RESPOSTAS_X -> Vetor com as respostas da parte objetiva da prova de X\n",
    "#  TP_LINGUA      -> Língua Estrangeira \n",
    "#  TX_GABARITO_X  -> Vetor com o gabarito da parte objetiva da prova de X\n",
    "\n",
    "columns = [\n",
    "    \"NU_INSCRICAO\",\n",
    "    \"TP_PRESENCA_CN\",\n",
    "    \"TP_PRESENCA_CH\",\n",
    "    \"TP_PRESENCA_LC\",\n",
    "    \"TP_PRESENCA_MT\",\n",
    "    \"CO_PROVA_CN\",\n",
    "    \"CO_PROVA_CH\",\n",
    "    \"CO_PROVA_LC\",\n",
    "    \"CO_PROVA_MT\",\n",
    "    \"NU_NOTA_CN\",\n",
    "    \"NU_NOTA_CH\",\n",
    "    \"NU_NOTA_LC\",\n",
    "    \"NU_NOTA_MT\",\n",
    "    \"TX_RESPOSTAS_CN\",\n",
    "    \"TX_RESPOSTAS_CH\",\n",
    "    \"TX_RESPOSTAS_LC\",\n",
    "    \"TX_RESPOSTAS_MT\",\n",
    "    \"TP_LINGUA\",\n",
    "    \"TX_GABARITO_CN\",\n",
    "    \"TX_GABARITO_CH\",\n",
    "    \"TX_GABARITO_LC\",\n",
    "    \"TX_GABARITO_MT\"]"
   ]
  },
  {
   "cell_type": "code",
   "execution_count": 10,
   "metadata": {},
   "outputs": [],
   "source": [
    "# Ler apenas as colunas desejadas do dataset original e transformar em uma table\n",
    "df = pd.read_parquet(path_in, columns=columns)\n",
    "table = pa.Table.from_pandas(df)"
   ]
  },
  {
   "cell_type": "code",
   "execution_count": 11,
   "metadata": {},
   "outputs": [],
   "source": [
    "# Definir onde será salvo o novo dataset filtrado\n",
    "path_out = \"../../Datasets/MICRODADOS_ENEM_2019_SAOPAULO_FILTERED.parquet\""
   ]
  },
  {
   "cell_type": "code",
   "execution_count": 12,
   "metadata": {},
   "outputs": [],
   "source": [
    "# Gerar um parquet da Table\n",
    "pq.write_to_dataset(\n",
    "    table,\n",
    "    root_path=path_out,\n",
    ")"
   ]
  }
 ],
 "metadata": {
  "interpreter": {
   "hash": "f05200b756a9a88e893a2105222cf6c7350c9f501a8752a6ed40fd4d17f58db5"
  },
  "kernelspec": {
   "display_name": "Python 3.9.7 64-bit",
   "language": "python",
   "name": "python3"
  },
  "language_info": {
   "codemirror_mode": {
    "name": "ipython",
    "version": 3
   },
   "file_extension": ".py",
   "mimetype": "text/x-python",
   "name": "python",
   "nbconvert_exporter": "python",
   "pygments_lexer": "ipython3",
   "version": "3.9.7"
  },
  "orig_nbformat": 4
 },
 "nbformat": 4,
 "nbformat_minor": 2
}
