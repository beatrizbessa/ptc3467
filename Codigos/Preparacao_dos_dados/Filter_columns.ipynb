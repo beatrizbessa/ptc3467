{
 "cells": [
  {
   "cell_type": "code",
   "execution_count": 5,
   "metadata": {},
   "outputs": [],
   "source": [
    "import pandas as pd\n",
    "import pyarrow as pa\n",
    "import  pyarrow.parquet as pq"
   ]
  },
  {
   "cell_type": "code",
   "execution_count": 9,
   "metadata": {},
   "outputs": [],
   "source": [
    "path_in = \"../../Datasets/MICRODADOS_ENEM_2019_SAOPAULO.parquet\"\n",
    "\n",
    "columns = [\n",
    "    \"NU_INSCRICAO\",\n",
    "    \"NU_IDADE\",\n",
    "    \"TP_SEXO\",\n",
    "    \"TP_ST_CONCLUSAO\",\n",
    "    \"TP_ANO_CONCLUIU\",\n",
    "    \"TP_ESCOLA\",\n",
    "    \"IN_TREINEIRO\",\n",
    "    \"TP_PRESENCA_CN\",\n",
    "    \"TP_PRESENCA_CH\",\n",
    "    \"TP_PRESENCA_LC\",\n",
    "    \"TP_PRESENCA_MT\",\n",
    "    \"CO_PROVA_CN\",\n",
    "    \"CO_PROVA_CH\",\n",
    "    \"CO_PROVA_LC\",\n",
    "    \"CO_PROVA_MT\",\n",
    "    \"NU_NOTA_CN\",\n",
    "    \"NU_NOTA_CH\",\n",
    "    \"NU_NOTA_LC\",\n",
    "    \"NU_NOTA_MT\",\n",
    "    \"TX_RESPOSTAS_CN\",\n",
    "    \"TX_RESPOSTAS_CH\",\n",
    "    \"TX_RESPOSTAS_LC\",\n",
    "    \"TX_RESPOSTAS_MT\",\n",
    "    \"TP_LINGUA\",\n",
    "    \"TX_GABARITO_CN\",\n",
    "    \"TX_GABARITO_CH\",\n",
    "    \"TX_GABARITO_LC\",\n",
    "    \"TX_GABARITO_MT\"]"
   ]
  },
  {
   "cell_type": "code",
   "execution_count": 10,
   "metadata": {},
   "outputs": [],
   "source": [
    "df = pd.read_parquet(path_in, columns=columns)\n",
    "table = pa.Table.from_pandas(df)"
   ]
  },
  {
   "cell_type": "code",
   "execution_count": 12,
   "metadata": {},
   "outputs": [],
   "source": [
    "path_out = \"../../Datasets/MICRODADOS_ENEM_2019_SAOPAULO_FILTERED.parquet\""
   ]
  },
  {
   "cell_type": "code",
   "execution_count": 13,
   "metadata": {},
   "outputs": [],
   "source": [
    "pq.write_to_dataset(\n",
    "    table,\n",
    "    root_path=path_out,\n",
    ")"
   ]
  }
 ],
 "metadata": {
  "interpreter": {
   "hash": "f05200b756a9a88e893a2105222cf6c7350c9f501a8752a6ed40fd4d17f58db5"
  },
  "kernelspec": {
   "display_name": "Python 3.9.7 64-bit",
   "language": "python",
   "name": "python3"
  },
  "language_info": {
   "codemirror_mode": {
    "name": "ipython",
    "version": 3
   },
   "file_extension": ".py",
   "mimetype": "text/x-python",
   "name": "python",
   "nbconvert_exporter": "python",
   "pygments_lexer": "ipython3",
   "version": "3.9.7"
  },
  "orig_nbformat": 4
 },
 "nbformat": 4,
 "nbformat_minor": 2
}
