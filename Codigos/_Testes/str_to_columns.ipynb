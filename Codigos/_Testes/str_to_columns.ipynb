{
 "cells": [
  {
   "cell_type": "code",
   "execution_count": 1,
   "metadata": {},
   "outputs": [],
   "source": [
    "import pandas as pd\n",
    "import numpy as np"
   ]
  },
  {
   "cell_type": "code",
   "execution_count": 10,
   "metadata": {},
   "outputs": [],
   "source": [
    "columns = [\n",
    "    \"NU_INSCRICAO\",\n",
    "    \"NU_IDADE\",\n",
    "    \"TP_SEXO\",\n",
    "    \"TP_ST_CONCLUSAO\",\n",
    "    \"TP_ANO_CONCLUIU\",\n",
    "    \"TP_ESCOLA\",\n",
    "    \"IN_TREINEIRO\",\n",
    "    \"TP_PRESENCA_CN\",\n",
    "    \"TP_PRESENCA_CH\",\n",
    "    \"TP_PRESENCA_LC\",\n",
    "    \"TP_PRESENCA_MT\",\n",
    "    \"CO_PROVA_CN\",\n",
    "    \"CO_PROVA_CH\",\n",
    "    \"CO_PROVA_LC\",\n",
    "    \"CO_PROVA_MT\",\n",
    "    \"NU_NOTA_CN\",\n",
    "    \"NU_NOTA_CH\",\n",
    "    \"NU_NOTA_LC\",\n",
    "    \"NU_NOTA_MT\",\n",
    "    \"TX_RESPOSTAS_CN\",\n",
    "    \"TX_RESPOSTAS_CH\",\n",
    "    \"TX_RESPOSTAS_LC\",\n",
    "    \"TX_RESPOSTAS_MT\",\n",
    "    \"TP_LINGUA\",\n",
    "    \"TX_GABARITO_CN\",\n",
    "    \"TX_GABARITO_CH\",\n",
    "    \"TX_GABARITO_LC\",\n",
    "    \"TX_GABARITO_MT\"]\n",
    "\n",
    "df = pd.read_parquet(\"MICRODADOS_ENEM_2019_SAOPAULO.parquet\", columns=columns)\n",
    "df_comp = pd.read_parquet(\"MICRODADOS_ENEM_2019_SAOPAULO.parquet\")"
   ]
  },
  {
   "cell_type": "code",
   "execution_count": null,
   "metadata": {},
   "outputs": [],
   "source": [
    "df_comp.columns.shape"
   ]
  },
  {
   "cell_type": "code",
   "execution_count": 3,
   "metadata": {},
   "outputs": [
    {
     "name": "stdout",
     "output_type": "stream",
     "text": [
      "Quantidade total de candidatos: 229837\n",
      "Quantidade de candidatos que faltaram em todas as provas: 55340 (24.08)%\n",
      "Quantidade de candidatos que faltaram em uma das provas: 67047 (29.17)%\n",
      "Quantidade de candidatos que faltaram ou foram eliminados em uma das provas: 67178 (29.23)%\n"
     ]
    }
   ],
   "source": [
    "qtdCandidatos = df.shape[0]\n",
    "qtdAusentes = df[(df[\"TP_PRESENCA_CN\"]==0) & (df[\"TP_PRESENCA_CH\"]==0) & (df[\"TP_PRESENCA_LC\"]==0) & (df[\"TP_PRESENCA_MT\"]==0)].shape[0]\n",
    "qtdFaltou =  df[(df[\"TP_PRESENCA_CN\"]==0) | (df[\"TP_PRESENCA_CH\"]==0) | (df[\"TP_PRESENCA_LC\"]==0) | (df[\"TP_PRESENCA_MT\"]==0)].shape[0]\n",
    "qtdFaltEliminados = df[(df[\"TP_PRESENCA_CN\"]!=1) | (df[\"TP_PRESENCA_CH\"]!=1) | (df[\"TP_PRESENCA_LC\"]!=1) | (df[\"TP_PRESENCA_MT\"]!=1)].shape[0]\n",
    "\n",
    "print(f'Quantidade total de candidatos: {qtdCandidatos}')\n",
    "print(f'Quantidade de candidatos que faltaram em todas as provas: {qtdAusentes} ({round(qtdAusentes*100/qtdCandidatos, 2)})%')\n",
    "print(f'Quantidade de candidatos que faltaram em uma das provas: {qtdFaltou} ({round(qtdFaltou*100/qtdCandidatos,2)})%')\n",
    "print(f'Quantidade de candidatos que faltaram ou foram eliminados em uma das provas: {qtdFaltEliminados} ({round(qtdFaltEliminados*100/qtdCandidatos,2)})%')"
   ]
  },
  {
   "cell_type": "code",
   "execution_count": 9,
   "metadata": {},
   "outputs": [
    {
     "data": {
      "text/plain": [
       "9.69469667634019"
      ]
     },
     "execution_count": 9,
     "metadata": {},
     "output_type": "execute_result"
    }
   ],
   "source": [
    "df[df['IN_TREINEIRO'] == 1].shape[0]/df.shape[0] * 100"
   ]
  },
  {
   "cell_type": "code",
   "execution_count": 4,
   "metadata": {},
   "outputs": [],
   "source": [
    "dfFiltered = df[(df[\"TP_PRESENCA_CN\"]==1) | (df[\"TP_PRESENCA_CH\"]==1) | (df[\"TP_PRESENCA_LC\"]==1) | (df[\"TP_PRESENCA_MT\"]==1)]\n",
    "\n",
    "dfFiltered[[\"TX_RESPOSTAS_CN\",\n",
    "    \"TX_RESPOSTAS_CH\",\n",
    "    \"TX_RESPOSTAS_LC\",\n",
    "    \"TX_RESPOSTAS_MT\",\n",
    "    \"TP_LINGUA\",\n",
    "    \"TX_GABARITO_CN\",\n",
    "    \"TX_GABARITO_CH\",\n",
    "    \"TX_GABARITO_LC\",\n",
    "    \"TX_GABARITO_MT\"]].head()"
   ]
  },
  {
   "cell_type": "code",
   "execution_count": 8,
   "metadata": {},
   "outputs": [],
   "source": [
    "arrayResp = {\"CN\":[],\"CH\":[], \"MT\":[], \"LC\":[]}\n",
    "\n",
    "for subject in arrayResp.keys():\n",
    "\n",
    "    n = 46 if subject != \"LC\" else 51\n",
    "\n",
    "    columnsNames = [subject + str(i) for i in range(1,n)]\n",
    "    dictNames =  dict(enumerate(columnsNames,1))\n",
    "\n",
    "    dfSubject = dfFiltered[[\"TX_RESPOSTAS_\" + subject, \"TX_GABARITO_\" + subject]].dropna()\n",
    "\n",
    "    dfRespostas = dfSubject[\"TX_RESPOSTAS_\" + subject].str.split(\"\",0,expand=True).drop(0, axis=\"columns\", inplace=False).drop(n, axis=\"columns\", inplace=False)        \n",
    "    dfRespostas.rename(columns=dictNames, inplace=True)\n",
    "\n",
    "    dfGabarito = dfSubject[\"TX_GABARITO_\" + subject].str.split(\"\",0,expand=True).drop(0, axis=\"columns\", inplace=False).drop(n, axis=\"columns\", inplace=False)\n",
    "    dfGabarito.rename(columns=dictNames, inplace=True)\n",
    "\n",
    "    dfCN = pd.DataFrame()\n",
    "\n",
    "    for column in columnsNames:\n",
    "        conditions = [dfRespostas[column] == dfGabarito[column], pd.isna(dfRespostas[column])]\n",
    "        choices = [1, np.nan]\n",
    "\n",
    "        dfRespostas[column] = np.select(conditions, choices, default=0)\n",
    "    \n",
    "    arrayResp[subject] = dfRespostas\n"
   ]
  },
  {
   "cell_type": "code",
   "execution_count": 29,
   "metadata": {},
   "outputs": [
    {
     "name": "stdout",
     "output_type": "stream",
     "text": [
      "Prova: CH\n",
      "509.0, 510.0, 507.0, 508.0, 524.0, nan, 520.0\n",
      "\n",
      "Prova: LC\n",
      "514.0, 513.0, 511.0, 512.0, 525.0, nan, 521.0\n",
      "\n",
      "Prova: MT\n",
      "518.0, 516.0, 515.0, 517.0, nan, 526.0, 522.0\n",
      "\n",
      "Prova: CN\n",
      "505.0, 504.0, 503.0, 506.0, nan, 523.0, 519.0\n",
      "\n"
     ]
    }
   ],
   "source": [
    "arrayProvas = {\"CN\",\"CH\", \"MT\", \"LC\"}\n",
    "\n",
    "for prova in arrayProvas:\n",
    "    print(f\"Prova: {prova}\")\n",
    "    print(\", \".join([str(item) for item in dfFiltered[\"CO_PROVA_\" + prova].unique()]) + \"\\n\")"
   ]
  }
 ],
 "metadata": {
  "interpreter": {
   "hash": "f05200b756a9a88e893a2105222cf6c7350c9f501a8752a6ed40fd4d17f58db5"
  },
  "kernelspec": {
   "display_name": "Python 3.9.7 64-bit",
   "name": "python3"
  },
  "language_info": {
   "codemirror_mode": {
    "name": "ipython",
    "version": 3
   },
   "file_extension": ".py",
   "mimetype": "text/x-python",
   "name": "python",
   "nbconvert_exporter": "python",
   "pygments_lexer": "ipython3",
   "version": "3.9.7"
  },
  "orig_nbformat": 4
 },
 "nbformat": 4,
 "nbformat_minor": 2
}
