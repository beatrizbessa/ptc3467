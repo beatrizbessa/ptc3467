{
 "cells": [
  {
   "cell_type": "code",
   "execution_count": 1,
   "metadata": {},
   "outputs": [],
   "source": [
    "import pandas as pd\n",
    "import numpy as np\n",
    "import matplotlib.pyplot as plt"
   ]
  },
  {
   "cell_type": "code",
   "execution_count": 16,
   "metadata": {},
   "outputs": [],
   "source": [
    "plt.rcParams.update({'font.size': 22})\n",
    "plt.rcParams[\"figure.figsize\"] = (10,10)"
   ]
  },
  {
   "cell_type": "code",
   "execution_count": 39,
   "metadata": {},
   "outputs": [],
   "source": [
    "path_dataset = \"../../Datasets/MICRODADOS_ENEM_2019_SAOPAULO_FILTERED.parquet\"\n",
    "df = pd.read_parquet(path_dataset)"
   ]
  },
  {
   "cell_type": "code",
   "execution_count": 40,
   "metadata": {},
   "outputs": [],
   "source": [
    "df.rename(columns={\"NU_NOTA_CN\":\"CN\", \"NU_NOTA_CH\":\"CH\", \"NU_NOTA_LC\":\"LC\", \"NU_NOTA_MT\":\"MT\"}, inplace=True)\n",
    "columns= [\"CN\",\"MT\",\"CH\", \"LC\"]"
   ]
  },
  {
   "cell_type": "code",
   "execution_count": 71,
   "metadata": {},
   "outputs": [
    {
     "data": {
      "image/png": "[encoded data removed]",
      "text/plain": [
       "<Figure size 720x720 with 1 Axes>"
      ]
     },
     "metadata": {
      "needs_background": "light"
     },
     "output_type": "display_data"
    }
   ],
   "source": [
    "red_circle = dict(markerfacecolor='red', marker='o')\n",
    "df.boxplot(column=columns, flierprops=red_circle, )\n",
    "plt.savefig(\"../../Outputs/Medidas descritivas/boxplot_notas_sp.png\")"
   ]
  },
  {
   "cell_type": "code",
   "execution_count": 91,
   "metadata": {},
   "outputs": [
    {
     "data": {
      "text/html": [
       "<div>\n",
       "<style scoped>\n",
       "    .dataframe tbody tr th:only-of-type {\n",
       "        vertical-align: middle;\n",
       "    }\n",
       "\n",
       "    .dataframe tbody tr th {\n",
       "        vertical-align: top;\n",
       "    }\n",
       "\n",
       "    .dataframe thead th {\n",
       "        text-align: right;\n",
       "    }\n",
       "</style>\n",
       "<table border=\"1\" class=\"dataframe\">\n",
       "  <thead>\n",
       "    <tr style=\"text-align: right;\">\n",
       "      <th></th>\n",
       "      <th>CN</th>\n",
       "      <th>MT</th>\n",
       "      <th>CH</th>\n",
       "      <th>LC</th>\n",
       "    </tr>\n",
       "  </thead>\n",
       "  <tbody>\n",
       "    <tr>\n",
       "      <th>count</th>\n",
       "      <td>163189.00</td>\n",
       "      <td>163189.00</td>\n",
       "      <td>173812.00</td>\n",
       "      <td>173812.00</td>\n",
       "    </tr>\n",
       "    <tr>\n",
       "      <th>mean</th>\n",
       "      <td>496.88</td>\n",
       "      <td>551.97</td>\n",
       "      <td>531.43</td>\n",
       "      <td>542.31</td>\n",
       "    </tr>\n",
       "    <tr>\n",
       "      <th>median</th>\n",
       "      <td>493.70</td>\n",
       "      <td>536.90</td>\n",
       "      <td>537.30</td>\n",
       "      <td>548.80</td>\n",
       "    </tr>\n",
       "    <tr>\n",
       "      <th>std</th>\n",
       "      <td>80.91</td>\n",
       "      <td>118.62</td>\n",
       "      <td>82.79</td>\n",
       "      <td>60.49</td>\n",
       "    </tr>\n",
       "    <tr>\n",
       "      <th>min</th>\n",
       "      <td>0.00</td>\n",
       "      <td>0.00</td>\n",
       "      <td>0.00</td>\n",
       "      <td>0.00</td>\n",
       "    </tr>\n",
       "    <tr>\n",
       "      <th>10%</th>\n",
       "      <td>393.00</td>\n",
       "      <td>407.60</td>\n",
       "      <td>420.60</td>\n",
       "      <td>465.90</td>\n",
       "    </tr>\n",
       "    <tr>\n",
       "      <th>25%</th>\n",
       "      <td>433.10</td>\n",
       "      <td>452.90</td>\n",
       "      <td>476.90</td>\n",
       "      <td>509.00</td>\n",
       "    </tr>\n",
       "    <tr>\n",
       "      <th>50%</th>\n",
       "      <td>493.70</td>\n",
       "      <td>536.90</td>\n",
       "      <td>537.30</td>\n",
       "      <td>548.80</td>\n",
       "    </tr>\n",
       "    <tr>\n",
       "      <th>75%</th>\n",
       "      <td>555.70</td>\n",
       "      <td>637.40</td>\n",
       "      <td>588.50</td>\n",
       "      <td>583.30</td>\n",
       "    </tr>\n",
       "    <tr>\n",
       "      <th>90%</th>\n",
       "      <td>602.30</td>\n",
       "      <td>718.00</td>\n",
       "      <td>632.70</td>\n",
       "      <td>611.20</td>\n",
       "    </tr>\n",
       "    <tr>\n",
       "      <th>max</th>\n",
       "      <td>849.70</td>\n",
       "      <td>985.00</td>\n",
       "      <td>812.80</td>\n",
       "      <td>772.30</td>\n",
       "    </tr>\n",
       "  </tbody>\n",
       "</table>\n",
       "</div>"
      ],
      "text/plain": [
       "               CN         MT         CH         LC\n",
       "count   163189.00  163189.00  173812.00  173812.00\n",
       "mean       496.88     551.97     531.43     542.31\n",
       "median     493.70     536.90     537.30     548.80\n",
       "std         80.91     118.62      82.79      60.49\n",
       "min          0.00       0.00       0.00       0.00\n",
       "10%        393.00     407.60     420.60     465.90\n",
       "25%        433.10     452.90     476.90     509.00\n",
       "50%        493.70     536.90     537.30     548.80\n",
       "75%        555.70     637.40     588.50     583.30\n",
       "90%        602.30     718.00     632.70     611.20\n",
       "max        849.70     985.00     812.80     772.30"
      ]
     },
     "execution_count": 91,
     "metadata": {},
     "output_type": "execute_result"
    }
   ],
   "source": [
    "dfNotas = df[columns].describe(percentiles=[0.1, 0.25, 0.5, 0.75, 0.90])\n",
    "medianRow = pd.DataFrame([df[['CN', 'MT', 'CH','LC']].median().values], index=[\"median\"], columns=columns)\n",
    "dfNotas = pd.concat([dfNotas.iloc[:2], medianRow, dfNotas.iloc[2:]]).round(2)\n",
    "\n",
    "dfNotas.to_excel(\"../../Outputs/Medidas descritivas/description_notas_sp.xlsx\")\n",
    "dfNotas"
   ]
  },
  {
   "cell_type": "code",
   "execution_count": 81,
   "metadata": {},
   "outputs": [
    {
     "name": "stdout",
     "output_type": "stream",
     "text": [
      "Quantidade total de candidatos: 229837\n",
      "Quantidade de candidatos que faltaram em todas as provas: 55340 (24.08%)\n",
      "Quantidade de candidatos que faltaram em uma das provas: 67047 (29.17%)\n",
      "Quantidade de candidatos que faltaram ou foram eliminados em uma das provas: 67178 (29.23%)\n"
     ]
    }
   ],
   "source": [
    "qtdCandidatos = df.shape[0]\n",
    "qtdAusentes = df[(df[\"TP_PRESENCA_CN\"]==0) & (df[\"TP_PRESENCA_CH\"]==0) & (df[\"TP_PRESENCA_LC\"]==0) & (df[\"TP_PRESENCA_MT\"]==0)].shape[0]\n",
    "qtdFaltou =  df[(df[\"TP_PRESENCA_CN\"]==0) | (df[\"TP_PRESENCA_CH\"]==0) | (df[\"TP_PRESENCA_LC\"]==0) | (df[\"TP_PRESENCA_MT\"]==0)].shape[0]\n",
    "qtdFaltEliminados = df[(df[\"TP_PRESENCA_CN\"]!=1) | (df[\"TP_PRESENCA_CH\"]!=1) | (df[\"TP_PRESENCA_LC\"]!=1) | (df[\"TP_PRESENCA_MT\"]!=1)].shape[0]\n",
    "\n",
    "print(f'Quantidade total de candidatos: {qtdCandidatos}')\n",
    "print(f'Quantidade de candidatos que não compareceram em todas as provas: {qtdAusentes} ({round(qtdAusentes*100/qtdCandidatos, 2)}%)')\n",
    "print(f'Quantidade de candidatos que não compareceram em uma das provas: {qtdFaltou} ({round(qtdFaltou*100/qtdCandidatos,2)}%)')\n",
    "print(f'Quantidade de candidatos que não compareceram ou foram eliminados em uma das provas: {qtdFaltEliminados} ({round(qtdFaltEliminados*100/qtdCandidatos,2)}%)')"
   ]
  }
 ],
 "metadata": {
  "interpreter": {
   "hash": "f05200b756a9a88e893a2105222cf6c7350c9f501a8752a6ed40fd4d17f58db5"
  },
  "kernelspec": {
   "display_name": "Python 3.9.7 64-bit",
   "language": "python",
   "name": "python3"
  },
  "language_info": {
   "codemirror_mode": {
    "name": "ipython",
    "version": 3
   },
   "file_extension": ".py",
   "mimetype": "text/x-python",
   "name": "python",
   "nbconvert_exporter": "python",
   "pygments_lexer": "ipython3",
   "version": "3.9.7"
  },
  "orig_nbformat": 4
 },
 "nbformat": 4,
 "nbformat_minor": 2
}
